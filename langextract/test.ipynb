{
 "cells": [
  {
   "cell_type": "markdown",
   "id": "b937fc53",
   "metadata": {},
   "source": [
    "# LangExtract"
   ]
  },
  {
   "cell_type": "markdown",
   "id": "8fa1109d",
   "metadata": {},
   "source": [
    "Para rodar localmente e sem custos, baixe um modelo local (e.g. Llama3) -> https://ollama.com/download\n",
    "\n",
    "Para testar o servidor, digite no terminal:\n",
    "\n",
    "`ollama run llama3 \"say hello\"`\n",
    "\n",
    "Para conferir se o servidor está conectado corretamente:\n",
    "\n",
    "`ollama serve`"
   ]
  },
  {
   "cell_type": "code",
   "execution_count": null,
   "id": "d6e9d564",
   "metadata": {},
   "outputs": [
    {
     "name": "stderr",
     "output_type": "stream",
     "text": [
      "\u001b[94m\u001b[1mLangExtract\u001b[0m: Processing [00:20]"
     ]
    },
    {
     "name": "stdout",
     "output_type": "stream",
     "text": [
      "product: Bolsa feminina de couro sintético\n",
      "Atributes: {'brand': 'Vizzano', 'category': 'bolsa', 'material': 'couro sintético', 'color': 'bege', 'attributes': ['alça ajustável', 'fechamento magnético']}\n"
     ]
    },
    {
     "name": "stderr",
     "output_type": "stream",
     "text": [
      "\n"
     ]
    }
   ],
   "source": [
    "from langextract.factory import ModelConfig\n",
    "import langextract as lx\n",
    "import textwrap\n",
    "\n",
    "# 1. Define a concise prompt\n",
    "prompt = textwrap.dedent(\"\"\"\\\n",
    "Extract structured product information from the text.\n",
    "Identify product name, brand, model, category, color, size, material, and any key attributes.\n",
    "Use the exact text for extractions — do not paraphrase.\n",
    "Return relevant attributes that describe each product clearly.\n",
    "\"\"\")\n",
    "\n",
    "# 2. Provide a high-quality example to guide the model\n",
    "examples = [\n",
    "    lx.data.ExampleData(\n",
    "        text=\"Camiseta PoloTech masculina de algodão, cor azul marinho, disponível nos tamanhos M, G e GG.\",\n",
    "        extractions=[\n",
    "            lx.data.Extraction(\n",
    "                extraction_class=\"product\",\n",
    "                extraction_text=\"Camiseta PoloTech masculina\",\n",
    "                attributes={\n",
    "                    \"brand\": \"PoloTech\",\n",
    "                    \"category\": \"camiseta\",\n",
    "                    \"material\": \"algodão\",\n",
    "                    \"color\": \"azul marinho\",\n",
    "                    \"sizes\": [\"M\", \"G\", \"GG\"]\n",
    "                },\n",
    "            ),\n",
    "        ],\n",
    "    ),\n",
    "    lx.data.ExampleData(\n",
    "        text=\"Tênis esportivo Nike Air Zoom branco, ideal para corrida.\",\n",
    "        extractions=[\n",
    "            lx.data.Extraction(\n",
    "                extraction_class=\"product\",\n",
    "                extraction_text=\"Tênis esportivo Nike Air Zoom branco\",\n",
    "                attributes={\n",
    "                    \"brand\": \"Nike\",\n",
    "                    \"category\": \"tênis esportivo\",\n",
    "                    \"color\": \"branco\",\n",
    "                    \"intended_use\": \"corrida\"\n",
    "                },\n",
    "            ),\n",
    "        ],\n",
    "    ),\n",
    "]\n",
    "\n",
    "# 3. Run the extraction on your input text\n",
    "input_text = \"Bolsa feminina de couro sintético da marca Vizzano, cor bege, com alça ajustável e fechamento magnético.\"\n",
    "\n",
    "model_config = ModelConfig(\n",
    "    model_id=\"llama3\",\n",
    "    provider=\"ollama\",\n",
    "    provider_kwargs={\"base_url\": \"http://localhost:11434\"}, \n",
    ")\n",
    "\n",
    "result = lx.extract(\n",
    "    text_or_documents=input_text,\n",
    "    prompt_description=prompt,\n",
    "    examples=examples,\n",
    "    config=model_config,\n",
    ")\n",
    "\n",
    "for e in result.extractions:\n",
    "    print(f\"{e.extraction_class}: {e.extraction_text}\")\n",
    "    if e.attributes:\n",
    "        print(f\"Atributes: {e.attributes}\")"
   ]
  },
  {
   "cell_type": "code",
   "execution_count": null,
   "id": "761b5dcb",
   "metadata": {},
   "outputs": [],
   "source": [
    "import langextract as lx\n",
    "\n",
    "# Text with a medication mention\n",
    "input_text = \"Patient took 400 mg PO Ibuprofen q4h for two days.\"\n",
    "\n",
    "# Define extraction prompt\n",
    "prompt_description = \"Extract medication information including medication name, dosage, route, frequency, and duration in the order they appear in the text.\"\n",
    "\n",
    "# Define example data with entities in order of appearance\n",
    "examples = [\n",
    "    lx.data.ExampleData(\n",
    "        text=\"Patient was given 250 mg IV Cefazolin TID for one week.\",\n",
    "        extractions=[\n",
    "            lx.data.Extraction(extraction_class=\"dosage\", extraction_text=\"250 mg\"),\n",
    "            lx.data.Extraction(extraction_class=\"route\", extraction_text=\"IV\"),\n",
    "            lx.data.Extraction(extraction_class=\"medication\", extraction_text=\"Cefazolin\"),\n",
    "            lx.data.Extraction(extraction_class=\"frequency\", extraction_text=\"TID\"),  # TID = three times a day\n",
    "            lx.data.Extraction(extraction_class=\"duration\", extraction_text=\"for one week\")\n",
    "        ]\n",
    "    )\n",
    "]\n",
    "\n",
    "result = lx.extract(\n",
    "    text_or_documents=input_text,\n",
    "    prompt_description=prompt_description,\n",
    "    examples=examples,\n",
    "    model_id=\"gemini-2.5-pro\",\n",
    "    api_key=\"your-api-key-here\"  # Optional if LANGEXTRACT_API_KEY environment variable is set\n",
    ")\n",
    "\n",
    "# Display entities with positions\n",
    "print(f\"Input: {input_text}\\n\")\n",
    "print(\"Extracted entities:\")\n",
    "for entity in result.extractions:\n",
    "    position_info = \"\"\n",
    "    if entity.char_interval:\n",
    "        start, end = entity.char_interval.start_pos, entity.char_interval.end_pos\n",
    "        position_info = f\" (pos: {start}-{end})\"\n",
    "    print(f\"• {entity.extraction_class.capitalize()}: {entity.extraction_text}{position_info}\")\n",
    "\n",
    "# Save and visualize the results\n",
    "lx.io.save_annotated_documents([result], output_name=\"medical_ner_extraction.jsonl\", output_dir=\".\")\n",
    "\n",
    "# Generate the interactive visualization\n",
    "html_content = lx.visualize(\"medical_ner_extraction.jsonl\")\n",
    "with open(\"medical_ner_visualization.html\", \"w\") as f:\n",
    "    if hasattr(html_content, 'data'):\n",
    "        f.write(html_content.data)  # For Jupyter/Colab\n",
    "    else:\n",
    "        f.write(html_content)\n",
    "\n",
    "print(\"Interactive visualization saved to medical_ner_visualization.html\")"
   ]
  },
  {
   "cell_type": "markdown",
   "id": "e742ecad",
   "metadata": {},
   "source": []
  }
 ],
 "metadata": {
  "kernelspec": {
   "display_name": ".venv",
   "language": "python",
   "name": "python3"
  },
  "language_info": {
   "codemirror_mode": {
    "name": "ipython",
    "version": 3
   },
   "file_extension": ".py",
   "mimetype": "text/x-python",
   "name": "python",
   "nbconvert_exporter": "python",
   "pygments_lexer": "ipython3",
   "version": "3.10.12"
  }
 },
 "nbformat": 4,
 "nbformat_minor": 5
}

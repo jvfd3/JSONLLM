{
 "cells": [
  {
   "cell_type": "code",
   "execution_count": 1,
   "id": "1e8b011c",
   "metadata": {},
   "outputs": [],
   "source": [
    "\"\"\" Installing needed dependencies from requirements.txt and loading them \"\"\"\n",
    "\n",
    "import subprocess\n",
    "import sys\n",
    "\n",
    "subprocess.check_call([sys.executable, \"-m\", \"pip\", \"install\", \"-r\", \"requirements.txt\"])\n",
    "# %pip install pandas==2.3.2 datasets==4.2.0\n",
    "\n",
    "\"\"\" Importing installed libraries \"\"\"\n",
    "\n",
    "from datasets import load_dataset\n",
    "import pandas as pd"
   ]
  },
  {
   "cell_type": "code",
   "execution_count": 2,
   "id": "a5ecc346",
   "metadata": {},
   "outputs": [],
   "source": [
    "\"\"\" Importing modules \"\"\"\n",
    "\n",
    "from Modules.load_db import get_datasets\n",
    "from Modules.data_preprocess import preprocess_data\n",
    "from Modules.model_load import get_pretrained_model, train_model\n",
    "from Modules.evaluation import evaluate_solution, plot_results\n",
    "from Modules.hyperparameters import get_hyperparameters"
   ]
  },
  {
   "cell_type": "code",
   "execution_count": 3,
   "id": "a4042f39",
   "metadata": {},
   "outputs": [],
   "source": [
    "\"\"\" Constants \"\"\"\n",
    "\n",
    "hyperparameters = get_hyperparameters()"
   ]
  },
  {
   "cell_type": "code",
   "execution_count": 4,
   "id": "67261415",
   "metadata": {},
   "outputs": [],
   "source": [
    "\"\"\" Loading datasets \"\"\"\n",
    "\n",
    "ae110k = get_datasets('ae-110k')\n"
   ]
  },
  {
   "cell_type": "code",
   "execution_count": 5,
   "id": "a4b9dbf4",
   "metadata": {},
   "outputs": [
    {
     "data": {
      "text/plain": [
       "DatasetDict({\n",
       "    train: Dataset({\n",
       "        features: ['id', 'text', 'attributes', 'values', 'values_indices', 'values_text', 'attributes_values', 'json_answer', 'candidate_attributes', 'candidate_text', 'candidate_example'],\n",
       "        num_rows: 31604\n",
       "    })\n",
       "    validation: Dataset({\n",
       "        features: ['id', 'text', 'attributes', 'values', 'values_indices', 'values_text', 'attributes_values', 'json_answer', 'candidate_attributes', 'candidate_text', 'candidate_example'],\n",
       "        num_rows: 3950\n",
       "    })\n",
       "    test: Dataset({\n",
       "        features: ['id', 'text', 'attributes', 'values', 'values_indices', 'values_text', 'attributes_values', 'json_answer', 'candidate_attributes', 'candidate_text', 'candidate_example'],\n",
       "        num_rows: 3951\n",
       "    })\n",
       "})"
      ]
     },
     "execution_count": 5,
     "metadata": {},
     "output_type": "execute_result"
    }
   ],
   "source": [
    "ae110k"
   ]
  },
  {
   "cell_type": "code",
   "execution_count": 6,
   "id": "6e82425c",
   "metadata": {},
   "outputs": [],
   "source": [
    "preprocess_data()"
   ]
  },
  {
   "cell_type": "code",
   "execution_count": 7,
   "id": "438dc3e5",
   "metadata": {},
   "outputs": [],
   "source": [
    "get_pretrained_model()"
   ]
  },
  {
   "cell_type": "code",
   "execution_count": 8,
   "id": "254bcae8",
   "metadata": {},
   "outputs": [],
   "source": [
    "train_model()"
   ]
  },
  {
   "cell_type": "code",
   "execution_count": 9,
   "id": "1886a2b3",
   "metadata": {},
   "outputs": [],
   "source": [
    "evaluate_solution()"
   ]
  },
  {
   "cell_type": "code",
   "execution_count": 10,
   "id": "5689098e",
   "metadata": {},
   "outputs": [],
   "source": [
    "plot_results()"
   ]
  }
 ],
 "metadata": {
  "kernelspec": {
   "display_name": "Python 3",
   "language": "python",
   "name": "python3"
  },
  "language_info": {
   "codemirror_mode": {
    "name": "ipython",
    "version": 3
   },
   "file_extension": ".py",
   "mimetype": "text/x-python",
   "name": "python",
   "nbconvert_exporter": "python",
   "pygments_lexer": "ipython3",
   "version": "3.12.10"
  }
 },
 "nbformat": 4,
 "nbformat_minor": 5
}

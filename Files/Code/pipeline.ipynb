{
 "cells": [
  {
   "cell_type": "code",
   "execution_count": null,
   "id": "1e8b011c",
   "metadata": {},
   "outputs": [],
   "source": [
    "\"\"\" Installing needed dependencies from requirements.txt \"\"\"\n",
    "\n",
    "import subprocess\n",
    "import sys\n",
    "subprocess.check_call([sys.executable, \"-m\", \"pip\", \"install\", \"-r\", \"requirements.txt\"])"
   ]
  },
  {
   "cell_type": "code",
   "execution_count": null,
   "id": "6b1805ab",
   "metadata": {},
   "outputs": [],
   "source": [
    "\"\"\" Importando bibliotecas \"\"\"\n"
   ]
  },
  {
   "cell_type": "code",
   "execution_count": null,
   "id": "a5ecc346",
   "metadata": {},
   "outputs": [],
   "source": [
    "\"\"\" Importando Módulos \"\"\"\n",
    "\n",
    "from Modules.load_db import load_database\n",
    "from Modules.data_preprocess import preprocess_data\n",
    "from Modules.model_load import get_pretrained_model, train_model\n",
    "from Modules.evaluation import evaluate_solution, plot_results\n",
    "from Modules.hyperparameters import get_hyperparameters"
   ]
  },
  {
   "cell_type": "code",
   "execution_count": null,
   "id": "0a31c963",
   "metadata": {},
   "outputs": [],
   "source": [
    "\"\"\" Constants \"\"\"\n",
    "\n",
    "hyperparameters = get_hyperparameters()"
   ]
  },
  {
   "cell_type": "code",
   "execution_count": null,
   "id": "98db7668",
   "metadata": {},
   "outputs": [],
   "source": [
    "load_database()"
   ]
  },
  {
   "cell_type": "code",
   "execution_count": null,
   "id": "6e82425c",
   "metadata": {},
   "outputs": [],
   "source": [
    "preprocess_data()"
   ]
  },
  {
   "cell_type": "code",
   "execution_count": null,
   "id": "438dc3e5",
   "metadata": {},
   "outputs": [],
   "source": [
    "get_pretrained_model()"
   ]
  },
  {
   "cell_type": "code",
   "execution_count": null,
   "id": "254bcae8",
   "metadata": {},
   "outputs": [],
   "source": [
    "train_model()"
   ]
  },
  {
   "cell_type": "code",
   "execution_count": null,
   "id": "1886a2b3",
   "metadata": {},
   "outputs": [],
   "source": [
    "evaluate_solution()"
   ]
  },
  {
   "cell_type": "code",
   "execution_count": null,
   "id": "5689098e",
   "metadata": {},
   "outputs": [],
   "source": [
    "plot_results()"
   ]
  }
 ],
 "metadata": {
  "kernelspec": {
   "display_name": "Python 3",
   "language": "python",
   "name": "python3"
  },
  "language_info": {
   "codemirror_mode": {
    "name": "ipython",
    "version": 3
   },
   "file_extension": ".py",
   "mimetype": "text/x-python",
   "name": "python",
   "nbconvert_exporter": "python",
   "pygments_lexer": "ipython3",
   "version": "3.12.10"
  }
 },
 "nbformat": 4,
 "nbformat_minor": 5
}

{
 "cells": [
  {
   "cell_type": "code",
   "execution_count": null,
   "id": "1e8b011c",
   "metadata": {},
   "outputs": [],
   "source": [
    "\"\"\" Installing needed dependencies from requirements.txt and loading them \"\"\"\n",
    "\n",
    "# import subprocess\n",
    "# import sys\n",
    "\n",
    "# subprocess.check_call([sys.executable, \"-m\", \"pip\", \"install\", \"-r\", \"requirements.txt\"])\n",
    "# %pip install pandas==2.3.2 datasets==4.2.0\n",
    "\n",
    "\"\"\" Importing installed libraries \"\"\"\n",
    "\n",
    "from datasets import load_dataset\n",
    "import pandas as pd"
   ]
  },
  {
   "cell_type": "code",
   "execution_count": null,
   "id": "a5ecc346",
   "metadata": {},
   "outputs": [],
   "source": [
    "\"\"\" Importing modules \"\"\"\n",
    "\n",
    "from Modules.load_db import get_dataset\n",
    "from Modules.data_preprocess import preprocess_data\n",
    "from Modules.model_load import get_pretrained_model, train_model\n",
    "from Modules.evaluation import evaluate_solution, plot_results\n",
    "from Modules.hyperparameters import get_hyperparameters"
   ]
  },
  {
   "cell_type": "code",
   "execution_count": null,
   "id": "a4042f39",
   "metadata": {},
   "outputs": [],
   "source": [
    "\"\"\" Constants \"\"\"\n",
    "\n",
    "hyperparameters = get_hyperparameters()"
   ]
  },
  {
   "cell_type": "code",
   "execution_count": null,
   "id": "67261415",
   "metadata": {},
   "outputs": [],
   "source": [
    "\"\"\" Loading datasets \"\"\"\n",
    "\n",
    "ae110k = get_dataset('ae-110k')\n"
   ]
  },
  {
   "cell_type": "code",
   "execution_count": null,
   "id": "6e82425c",
   "metadata": {},
   "outputs": [],
   "source": [
    "preprocess_data()"
   ]
  },
  {
   "cell_type": "code",
   "execution_count": null,
   "id": "438dc3e5",
   "metadata": {},
   "outputs": [],
   "source": [
    "get_pretrained_model()"
   ]
  },
  {
   "cell_type": "code",
   "execution_count": null,
   "id": "254bcae8",
   "metadata": {},
   "outputs": [],
   "source": [
    "train_model()"
   ]
  },
  {
   "cell_type": "code",
   "execution_count": null,
   "id": "1886a2b3",
   "metadata": {},
   "outputs": [],
   "source": [
    "evaluate_solution()"
   ]
  },
  {
   "cell_type": "code",
   "execution_count": null,
   "id": "5689098e",
   "metadata": {},
   "outputs": [],
   "source": [
    "plot_results()"
   ]
  }
 ],
 "metadata": {
  "kernelspec": {
   "display_name": ".venv",
   "language": "python",
   "name": "python3"
  },
  "language_info": {
   "codemirror_mode": {
    "name": "ipython",
    "version": 3
   },
   "file_extension": ".py",
   "mimetype": "text/x-python",
   "name": "python",
   "nbconvert_exporter": "python",
   "pygments_lexer": "ipython3",
   "version": "3.13.9"
  }
 },
 "nbformat": 4,
 "nbformat_minor": 5
}
